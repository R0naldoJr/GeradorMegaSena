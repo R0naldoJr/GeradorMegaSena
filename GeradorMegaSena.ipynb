import numpy as np
import random

# Gera 3 vezes 6 números de 1 a 60
numeros = np.random.randint(1,60, size=(3,6))

print(numeros)
