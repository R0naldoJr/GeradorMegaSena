{
  "nbformat": 4,
  "nbformat_minor": 0,
  "metadata": {
    "colab": {
      "provenance": [],
      "toc_visible": true
    },
    "kernelspec": {
      "name": "python3",
      "display_name": "Python 3"
    },
    "language_info": {
      "name": "python"
    }
  },
  "cells": [
    {
      "cell_type": "markdown",
      "source": [
        "Gerador de números para cartela da mega sena"
      ],
      "metadata": {
        "id": "Qz_CyyqertZI"
      }
    },
    {
      "cell_type": "code",
      "execution_count": null,
      "metadata": {
        "id": "Bd5ONzK0qRdZ"
      },
      "outputs": [],
      "source": [
        "import numpy as np\n",
        "import random\n",
        "\n",
        "# Gera 3 vezes 6 números de 1 a 60\n",
        "numeros = np.random.randint(1,60, size=(3,6))\n",
        "\n",
        "print(numeros)"
      ]
    }
  ]
}