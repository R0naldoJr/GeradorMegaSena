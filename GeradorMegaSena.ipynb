{
  "nbformat": 4,
  "nbformat_minor": 0,
  "metadata": {
    "colab": {
      "provenance": [],
      "toc_visible": true
    },
    "kernelspec": {
      "name": "python3",
      "display_name": "Python 3"
    },
    "language_info": {
      "name": "python"
    }
  },
  "cells": [
    {
      "cell_type": "markdown",
      "source": [
        "Gerador de números para cartela da mega sena"
      ],
      "metadata": {
        "id": "Qz_CyyqertZI"
      }
    },
    {
      "cell_type": "code",
      "execution_count": null,
      "metadata": {
        "id": "Bd5ONzK0qRdZ"
      },
      "outputs": [],
      "source": [
        "from random import sample\n",
        "\n",
        "# Gera 3 vezes 6 números de 1 a 60\n",
        "jogos = 0\n",
        "while jogos < 3:\n",
        "  numeros = sample(range(1,60), 6)\n",
        "  jogos += 1\n",
        "  print(numeros)\n"
      ]
    }
  ]
}